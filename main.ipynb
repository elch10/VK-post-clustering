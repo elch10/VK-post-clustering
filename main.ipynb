{
 "cells": [
  {
   "cell_type": "markdown",
   "metadata": {},
   "source": [
    "### Настройка и запуск spark <a class=\"anchor\" id=\"first\"></a>"
   ]
  },
  {
   "cell_type": "markdown",
   "metadata": {},
   "source": [
    "[Настраивал как написано тут](https://blog.sicara.com/get-started-pyspark-jupyter-guide-tutorial-ae2fe84f594f)"
   ]
  },
  {
   "cell_type": "code",
   "execution_count": null,
   "metadata": {},
   "outputs": [],
   "source": [
    "# !pip3 install findspark"
   ]
  },
  {
   "cell_type": "code",
   "execution_count": 2,
   "metadata": {},
   "outputs": [],
   "source": [
    "import findspark\n",
    "findspark.init('/home/elch10/spark-2.4.0-bin-hadoop2.7', 'python3')"
   ]
  },
  {
   "cell_type": "code",
   "execution_count": 3,
   "metadata": {},
   "outputs": [],
   "source": [
    "from pyspark.sql import SparkSession\n",
    "from pyspark import SparkConf\n",
    "\n",
    "conf = (SparkConf().setMaster('local[2]')\n",
    "        .set('spark.executor.memory', '2G')\n",
    "        .set('spark.driver.memory', '2G')\n",
    "        .set('spark.memory.fraction', '0'))\n",
    "#         .set('spark.sql.execution.arrow.enabled', 'true')) # I can't make it work\n",
    "spark = SparkSession.builder.config(conf=conf).getOrCreate()"
   ]
  },
  {
   "cell_type": "code",
   "execution_count": 4,
   "metadata": {},
   "outputs": [],
   "source": [
    "sc = spark.sparkContext"
   ]
  },
  {
   "cell_type": "markdown",
   "metadata": {},
   "source": [
    "### Загрузим только содержание всех постов из json <a class=\"anchor\" id=\"second\"></a>"
   ]
  },
  {
   "cell_type": "code",
   "execution_count": 1,
   "metadata": {},
   "outputs": [],
   "source": [
    "%matplotlib inline\n",
    "import pickle\n",
    "import numpy as np\n",
    "import pandas as pd\n",
    "import matplotlib.pyplot as plt"
   ]
  },
  {
   "cell_type": "code",
   "execution_count": null,
   "metadata": {},
   "outputs": [],
   "source": [
    "import json\n",
    "files = sc.wholeTextFiles(\"posts\")\n",
    "\n",
    "def extractContent(content):\n",
    "    posts_content = []\n",
    "    for post in json.loads(content):\n",
    "        posts_content.append(post['text'])\n",
    "    return posts_content\n",
    "\n",
    "content = files.flatMapValues(extractContent).collect()\n",
    "\n",
    "with open(\"ads_content.pkl\", \"wb\") as ads_content:\n",
    "    pickle.dump(content, ads_content)"
   ]
  },
  {
   "cell_type": "markdown",
   "metadata": {},
   "source": [
    "Сохранял просто лист, но потом понял что удобнее будет работать с pandas.DataFrame, поэтому загружаю так:"
   ]
  },
  {
   "cell_type": "code",
   "execution_count": 16,
   "metadata": {},
   "outputs": [],
   "source": [
    "with open(\"ads_content.pkl\", \"rb\") as ads_content:\n",
    "    content = pd.DataFrame(data=pickle.load(ads_content), columns=[\"filename\", \"content\"])"
   ]
  },
  {
   "cell_type": "code",
   "execution_count": 29,
   "metadata": {},
   "outputs": [
    {
     "data": {
      "text/html": [
       "<div>\n",
       "<style scoped>\n",
       "    .dataframe tbody tr th:only-of-type {\n",
       "        vertical-align: middle;\n",
       "    }\n",
       "\n",
       "    .dataframe tbody tr th {\n",
       "        vertical-align: top;\n",
       "    }\n",
       "\n",
       "    .dataframe thead th {\n",
       "        text-align: right;\n",
       "    }\n",
       "</style>\n",
       "<table border=\"1\" class=\"dataframe\">\n",
       "  <thead>\n",
       "    <tr style=\"text-align: right;\">\n",
       "      <th></th>\n",
       "      <th>filename</th>\n",
       "      <th>content</th>\n",
       "    </tr>\n",
       "  </thead>\n",
       "  <tbody>\n",
       "    <tr>\n",
       "      <th>0</th>\n",
       "      <td>file:/home/elch10/Desktop/vk/posts/1311.json</td>\n",
       "      <td>🔥ГОРЯЧЕЕ ПРЕДЛОЖЕНИЕ🔥\\n.\\nПри брони свадебной ...</td>\n",
       "    </tr>\n",
       "    <tr>\n",
       "      <th>1</th>\n",
       "      <td>file:/home/elch10/Desktop/vk/posts/1311.json</td>\n",
       "      <td>Соседи, помогайте! \\nПропала кошка, Севастопол...</td>\n",
       "    </tr>\n",
       "    <tr>\n",
       "      <th>2</th>\n",
       "      <td>file:/home/elch10/Desktop/vk/posts/1311.json</td>\n",
       "      <td>Меня зовут Павел Кочкин.\\nЯ основатель проекта...</td>\n",
       "    </tr>\n",
       "    <tr>\n",
       "      <th>3</th>\n",
       "      <td>file:/home/elch10/Desktop/vk/posts/1311.json</td>\n",
       "      <td>[club148413175|ФЕСТИВАЛЬ КРАСОК \"ART-FEST\" В Б...</td>\n",
       "    </tr>\n",
       "    <tr>\n",
       "      <th>4</th>\n",
       "      <td>file:/home/elch10/Desktop/vk/posts/1311.json</td>\n",
       "      <td>Продажа оригинальной и удобной спортивной одеж...</td>\n",
       "    </tr>\n",
       "  </tbody>\n",
       "</table>\n",
       "</div>"
      ],
      "text/plain": [
       "                                       filename  \\\n",
       "0  file:/home/elch10/Desktop/vk/posts/1311.json   \n",
       "1  file:/home/elch10/Desktop/vk/posts/1311.json   \n",
       "2  file:/home/elch10/Desktop/vk/posts/1311.json   \n",
       "3  file:/home/elch10/Desktop/vk/posts/1311.json   \n",
       "4  file:/home/elch10/Desktop/vk/posts/1311.json   \n",
       "\n",
       "                                             content  \n",
       "0  🔥ГОРЯЧЕЕ ПРЕДЛОЖЕНИЕ🔥\\n.\\nПри брони свадебной ...  \n",
       "1  Соседи, помогайте! \\nПропала кошка, Севастопол...  \n",
       "2  Меня зовут Павел Кочкин.\\nЯ основатель проекта...  \n",
       "3  [club148413175|ФЕСТИВАЛЬ КРАСОК \"ART-FEST\" В Б...  \n",
       "4  Продажа оригинальной и удобной спортивной одеж...  "
      ]
     },
     "execution_count": 29,
     "metadata": {},
     "output_type": "execute_result"
    }
   ],
   "source": [
    "content.head()"
   ]
  },
  {
   "cell_type": "markdown",
   "metadata": {},
   "source": [
    "Не знаю почему, но постов полученных по API оказалось чуть меньше 250 000"
   ]
  },
  {
   "cell_type": "code",
   "execution_count": 17,
   "metadata": {},
   "outputs": [
    {
     "name": "stdout",
     "output_type": "stream",
     "text": [
      "<class 'pandas.core.frame.DataFrame'>\n",
      "RangeIndex: 237755 entries, 0 to 237754\n",
      "Data columns (total 2 columns):\n",
      "filename    237755 non-null object\n",
      "content     237755 non-null object\n",
      "dtypes: object(2)\n",
      "memory usage: 3.6+ MB\n"
     ]
    }
   ],
   "source": [
    "content.info()"
   ]
  },
  {
   "cell_type": "markdown",
   "metadata": {
    "toc-hr-collapsed": true
   },
   "source": [
    "### Удалим всё кроме слов, сделаем лемматизацию, после этого применим TF-IDF <a class=\"anchor\" id=\"third\"></a>"
   ]
  },
  {
   "cell_type": "code",
   "execution_count": null,
   "metadata": {},
   "outputs": [],
   "source": [
    "from pyspark.ml.feature import HashingTF, IDF, RegexTokenizer, Normalizer\n",
    "from pyspark.ml import Pipeline\n",
    "\n",
    "df = spark.createDataFrame(data=content.reset_index())"
   ]
  },
  {
   "cell_type": "markdown",
   "metadata": {},
   "source": [
    "#### Извлекаем только слова"
   ]
  },
  {
   "cell_type": "code",
   "execution_count": null,
   "metadata": {},
   "outputs": [],
   "source": [
    "tokenizer = RegexTokenizer(pattern=\"[^\\\\p{L}]\", inputCol=\"content\", outputCol=\"words\")\n",
    "ads_only_words = tokenizer.transform(df).select([\"index\", \"words\"])\n",
    "\n",
    "ads_only_words.write.save(\"ads_only_words\")"
   ]
  },
  {
   "cell_type": "markdown",
   "metadata": {},
   "source": [
    "#### Лемматизация"
   ]
  },
  {
   "cell_type": "markdown",
   "metadata": {},
   "source": [
    "**Код в следующей ячейке на моей машине выполнется около полутора часов...**\n",
    "\n",
    "Проблема в том, что pandas_udf у меня совсем не хочет работать..."
   ]
  },
  {
   "cell_type": "code",
   "execution_count": null,
   "metadata": {},
   "outputs": [],
   "source": [
    "from pyspark.sql.functions import udf\n",
    "from pyspark.sql.types import ArrayType, StringType\n",
    "from pymystem3 import Mystem\n",
    "\n",
    "ads_only_words = spark.read.load(\"ads_only_words\")\n",
    "\n",
    "mystem = Mystem()\n",
    "\n",
    "@udf(ArrayType(StringType()))\n",
    "def lemmatize(array):\n",
    "    # mystem for words return array - [word, whitespace], but we only need the lemmatized words\n",
    "    # thus we only take the 0-th element\n",
    "    return [mystem.lemmatize(word)[0] for word in array]\n",
    "\n",
    "lemmatized = ads_only_words.withColumn(\"lemmatized\", lemmatize(\"words\")).drop(\"words\")\n",
    "lemmatized.write.save(\"lemmatized_words_with_id\")"
   ]
  },
  {
   "cell_type": "markdown",
   "metadata": {},
   "source": [
    "#### Удаление стоп слов"
   ]
  },
  {
   "cell_type": "code",
   "execution_count": null,
   "metadata": {},
   "outputs": [],
   "source": [
    "from pyspark.ml.feature import StopWordsRemover\n",
    "\n",
    "lemmatized = spark.read.load(\"lemmatized_words_with_id\")\n",
    "\n",
    "stop_words = StopWordsRemover.loadDefaultStopWords(\"russian\")\n",
    "stop_words_remover = StopWordsRemover(inputCol=\"lemmatized\", outputCol=\"filtered\", stopWords=stop_words)\n",
    "\n",
    "stop_words_removed = stop_words_remover.transform(lemmatized)\n",
    "stop_words_removed.select([\"filtered\", \"index\"]).write.save(\"words_filtered_with_id\")"
   ]
  },
  {
   "cell_type": "markdown",
   "metadata": {},
   "source": [
    "#### TF-IDF с нормализацией"
   ]
  },
  {
   "cell_type": "markdown",
   "metadata": {},
   "source": [
    "После нормализации euclidean distance и cosine distance будут пропорциональны: https://stats.stackexchange.com/a/299016"
   ]
  },
  {
   "cell_type": "code",
   "execution_count": null,
   "metadata": {},
   "outputs": [],
   "source": [
    "HASH_TABLE_SIZE = 2 ** 14"
   ]
  },
  {
   "cell_type": "code",
   "execution_count": null,
   "metadata": {},
   "outputs": [],
   "source": [
    "stop_words_removed = spark.read.load(\"words_filtered_with_id\")\n",
    "\n",
    "#TF-IDF\n",
    "hashingTF = HashingTF(numFeatures=HASH_TABLE_SIZE, inputCol=\"filtered\", outputCol=\"frequencies\")\n",
    "idf = IDF(inputCol=\"frequencies\", outputCol=\"tf_idf\")\n",
    "\n",
    "normalizer = Normalizer(inputCol=\"tf_idf\", outputCol=\"normalized_tf_idf\")\n",
    "\n",
    "pipeline = Pipeline(stages=[hashingTF, idf, normalizer])\n",
    "\n",
    "transformer = pipeline.fit(stop_words_removed)\n",
    "preparedDF = transformer.transform(stop_words_removed)\n",
    "\n",
    "preparedDF.select([\"index\", \"normalized_tf_idf\"]).write.save(\"prepared_%d\" % HASH_TABLE_SIZE)"
   ]
  },
  {
   "cell_type": "markdown",
   "metadata": {
    "toc-hr-collapsed": false
   },
   "source": [
    "### KMeans <a class=\"anchor\" id=\"fourth\"></a>"
   ]
  },
  {
   "cell_type": "markdown",
   "metadata": {},
   "source": [
    "Но тут он смог работать только на 1000 кластерах. На 2000 падает с нехваткой памяти. Также делал на 500 кластерах, но забыл про индексы, и в общем запускал всё зря..."
   ]
  },
  {
   "cell_type": "code",
   "execution_count": null,
   "metadata": {},
   "outputs": [],
   "source": [
    "from pyspark.ml.clustering import KMeans\n",
    "from pyspark.ml.evaluation import ClusteringEvaluator\n",
    "\n",
    "preparedDF = spark.read.load(\"prepared_%d\" % HASH_TABLE_SIZE)"
   ]
  },
  {
   "cell_type": "code",
   "execution_count": 7,
   "metadata": {},
   "outputs": [],
   "source": [
    "with open(\"silhouettes_score.pkl\", \"rb\") as fin:\n",
    "    silhouettes = pickle.load(fin)"
   ]
  },
  {
   "cell_type": "code",
   "execution_count": null,
   "metadata": {},
   "outputs": [],
   "source": [
    "%%time\n",
    "for i in [1000, 2000]:#np.logspace(2.7, 4, num=4):\n",
    "    kmeans = KMeans(featuresCol=\"normalized_tf_idf\").setK(int(i)).setSeed(17)\n",
    "    model = kmeans.fit(preparedDF)\n",
    "    model.save('kmeans_%d.model' % int(i))\n",
    "    \n",
    "    # Make predictions\n",
    "    prediction = model.transform(preparedDF)\n",
    "    prediction.write.save('kmeans_%d.prediction' % int(i))\n",
    "\n",
    "    # Evaluate clustering by computing Silhouette score\n",
    "    evaluator = ClusteringEvaluator(featuresCol=\"normalized_tf_idf\")\n",
    "    silhouettes[int(i)] = evaluator.evaluate(prediction)"
   ]
  },
  {
   "cell_type": "markdown",
   "metadata": {},
   "source": [
    "Можно заметить как я запускал на разных количествах кластеров, но опять же, я не знал про то, что spark может перемешивать строки как он хочет, чтобы решить эту проблему я ввёл индексы (но при предыдущих запусках их не было, поэтому я получал просто silhouette distance для них, но восстановить к какому именно документу принадлежит тот или иной вектор я бы не смог)\n",
    "\n",
    "Но кластеризация всё равно не очень хороша была при малом количестве кластеров (если оценивать по silhouettes):"
   ]
  },
  {
   "cell_type": "code",
   "execution_count": 8,
   "metadata": {},
   "outputs": [
    {
     "data": {
      "text/plain": [
       "{100: -0.03638636036931625,\n",
       " 166: -0.01900068298881791,\n",
       " 278: -0.00819782981032901,\n",
       " 464: 0.013298072323437247,\n",
       " 501: 0.014315990633307865,\n",
       " 1359: 0.07295370538858141,\n",
       " 1000: 0.04889224038527698}"
      ]
     },
     "execution_count": 8,
     "metadata": {},
     "output_type": "execute_result"
    }
   ],
   "source": [
    "silhouettes"
   ]
  },
  {
   "cell_type": "code",
   "execution_count": 9,
   "metadata": {},
   "outputs": [
    {
     "data": {
      "image/png": "[encoded data removed]",
      "text/plain": [
       "<Figure size 432x288 with 1 Axes>"
      ]
     },
     "metadata": {
      "needs_background": "light"
     },
     "output_type": "display_data"
    }
   ],
   "source": [
    "from operator import itemgetter\n",
    "silhouettes = np.array(sorted(silhouettes.items(), key=itemgetter(0)))\n",
    "\n",
    "plt.plot(silhouettes[:, 0], silhouettes[:, 1])\n",
    "plt.xlabel('Number of clusters')\n",
    "plt.ylabel('Silhoutte distance');"
   ]
  },
  {
   "cell_type": "markdown",
   "metadata": {},
   "source": [
    "Впринципе кривая довольно крутая, возможно, с большим количеством кластеров, мы бы получили ещё более лучшую кластеризацию (по мнению silhouette)"
   ]
  },
  {
   "cell_type": "code",
   "execution_count": null,
   "metadata": {},
   "outputs": [],
   "source": [
    "with open(\"silhouettes_score.pkl\", \"wb\") as fout:\n",
    "    pickle.dump(silhouettes, fout)"
   ]
  },
  {
   "cell_type": "markdown",
   "metadata": {
    "toc-hr-collapsed": true
   },
   "source": [
    "### Посмотрим на результаты KMeans с 1000 кластерами <a class=\"anchor\" id=\"fifth\"></a>"
   ]
  },
  {
   "cell_type": "code",
   "execution_count": 10,
   "metadata": {},
   "outputs": [],
   "source": [
    "kmean_prediction = spark.read.load(\"kmeans_1000.prediction\")\n",
    "df = kmean_prediction.toPandas()\n",
    "df.drop('normalized_tf_idf', axis=1, inplace=True)\n",
    "\n",
    "grouped_by_prediction = df.groupby(by='prediction')\n",
    "sizes = grouped_by_prediction.size()"
   ]
  },
  {
   "cell_type": "code",
   "execution_count": 11,
   "metadata": {},
   "outputs": [],
   "source": [
    "def get_posts_from_cluster(cluster_number):\n",
    "    idxs = grouped_by_prediction.get_group(cluster_number)['index']\n",
    "    return content.loc[idxs, 'content'].values"
   ]
  },
  {
   "cell_type": "markdown",
   "metadata": {},
   "source": [
    "#### Посмотрим на 65 кластер"
   ]
  },
  {
   "cell_type": "code",
   "execution_count": 12,
   "metadata": {},
   "outputs": [
    {
     "data": {
      "text/plain": [
       "10"
      ]
     },
     "execution_count": 12,
     "metadata": {},
     "output_type": "execute_result"
    }
   ],
   "source": [
    "sizes[65]"
   ]
  },
  {
   "cell_type": "code",
   "execution_count": 13,
   "metadata": {},
   "outputs": [
    {
     "data": {
      "text/plain": [
       "array([\"Что самое важное в детской одежде? На этот вопрос каждая мама отвечает по-своему. Например, так.\\n\\n ▷ Сразу понравился яркий дизайн с забавной аппликацией и очень мягкая приятная к телу ткань. Порадовало, что в процессе носки и очень частых стирок вещи не садятся, не линяют и на них не образуются катышки. С этого и началась любовь к вещичкам данной фирмы! ◁ \\n \\nВысочайшее качество вещей, безопасные материалы, стильный дизайн, каждая вещь продумана до мелочей. Нет ничего приятнее сердцу мамы, чем когда ее малыш доволен. \\n\\n✈ Только топовые американские бренды: Carter's, Gymboree, Ralph Lauren, Children's Place.\\n🙏 Работаем более 7 лет.\\n🎯 Отправка в день заказа.\\n👔 1300 позиций брендовой одежды в наличии на складе в Москве \\n🛒 Помощь с выбором размеров и моделей.\\n💌 По Москве и СПБ можем привезти несколько моделей разных размеров на выбор\\n\\n▷ Посмотреть все комплекты по акции: https://vk.com/market-20673835?section=album_54\\n▷ По любым вопросам пишите в личные сообщения: vk.me/carters_wisebuy\",\n",
       "       \"Ребенок должен носить только качественную одежду!\\n✈ 1300 позиций американских брендов в наличии : Carter's, Gymboree, Ralph Lauren, Children's Place.\\n🙏 Работаем более 7 лет, отправка в день заказа\",\n",
       "       \"Надоела некачественная детская одежда?\\n\\n✈ 1300 позиций американских брендов в наличии : Carter's, Gymboree, Ralph Lauren, Children's Place.\\n🙏 Работаем более 7 лет, отправка в день заказа\\n🔥 Посмотреть все комплекты по акции: https://vk.com/market-20673835?section=album_54\",\n",
       "       \"Надоела некачественная детская одежда?\\n\\n✈ 1300 позиций американских брендов в наличии : Carter's, Gymboree, Ralph Lauren, Children's Place.\\n🙏 Работаем более 7 лет, отправка в день заказа\\n🔥 Посмотреть все комплекты по акции: https://vk.com/market-20673835?section=album_54\",\n",
       "       \"Одежда такая же, как на картинке!\\n✈ 1300 позиций американских брендов в наличии : Carter's, Gymboree, Ralph Lauren, Children's Place.\\n🙏 Работаем более 7 лет, отправка в день заказа\",\n",
       "       \"Что самое важное в детской одежде? На этот вопрос каждая мама отвечает по-своему. Например, так.\\n\\n ▷ Сразу понравился яркий дизайн с забавной аппликацией и очень мягкая приятная к телу ткань. Порадовало, что в процессе носки и очень частых стирок вещи не садятся, не линяют и на них не образуются катышки. С этого и началась любовь к вещичкам данной фирмы! ◁ \\n \\nВысочайшее качество вещей, безопасные материалы, стильный дизайн, каждая вещь продумана до мелочей. Нет ничего приятнее сердцу мамы, чем когда ее малыш доволен. \\n\\n✈ Только топовые американские бренды: Carter's, Gymboree, Ralph Lauren, Children's Place.\\n🙏 Работаем более 7 лет.\\n🎯 Отправка в день заказа.\\n👔 1300 позиций брендовой одежды в наличии на складе в Москве \\n🛒 Помощь с выбором размеров и моделей.\\n💌 По Москве и СПБ можем привезти несколько моделей разных размеров на выбор\\n\\n▷ Посмотреть каталог: https://vk.com/market-20673835\\n▷ Рассчитать стоимость одежды для вашего ребенка: vk.me/carters_wisebuy\",\n",
       "       \"Что самое важное в детской одежде? На этот вопрос каждая мама отвечает по-своему. Например, так.\\n\\n ▷ Сразу понравился яркий дизайн с забавной аппликацией и очень мягкая приятная к телу ткань. Порадовало, что в процессе носки и очень частых стирок вещи не садятся, не линяют и на них не образуются катышки. С этого и началась любовь к вещичкам данной фирмы! ◁ \\n \\nВысочайшее качество вещей, безопасные материалы, стильный дизайн, каждая вещь продумана до мелочей. Нет ничего приятнее сердцу мамы, чем когда ее малыш доволен. \\n\\n✈ Только топовые американские бренды: Carter's, Gymboree, Ralph Lauren, Children's Place.\\n🙏 Работаем более 7 лет.\\n🎯 Отправка в день заказа.\\n👔 1300 позиций брендовой одежды в наличии на складе в Москве \\n🛒 Помощь с выбором размеров и моделей.\\n💌 По Москве и СПБ можем привезти несколько моделей разных размеров на выбор\\n\\n▷ Посмотреть каталог: https://vk.com/market-20673835\\n▷ Рассчитать стоимость одежды для вашего ребенка: vk.me/carters_wisebuy\",\n",
       "       \"Что самое важное в детской одежде? На этот вопрос каждая мама отвечает по-своему. Например, так.\\n\\n ▷ Сразу понравился яркий дизайн с забавной аппликацией и очень мягкая приятная к телу ткань. Порадовало, что в процессе носки и очень частых стирок вещи не садятся, не линяют и на них не образуются катышки. С этого и началась любовь к вещичкам данной фирмы! ◁ \\n \\nВысочайшее качество вещей, безопасные материалы, стильный дизайн, каждая вещь продумана до мелочей. Нет ничего приятнее сердцу мамы, чем когда ее малыш доволен. \\n\\n✈ Только топовые американские бренды: Carter's, Gymboree, Ralph Lauren, Children's Place.\\n🙏 Работаем более 7 лет.\\n🎯 Отправка в день заказа.\\n👔 1300 позиций брендовой одежды в наличии на складе в Москве \\n🛒 Помощь с выбором размеров и моделей.\\n💌 По Москве и СПБ можем привезти несколько моделей разных размеров на выбор\\n\\n▷ Посмотреть все комплекты по акции: https://vk.com/market-20673835?section=album_54\\n▷ По любым вопросам пишите в личные сообщения: vk.me/carters_wisebuy\",\n",
       "       \"Надоела некачественная детская одежда?\\n\\n✈ 1300 позиций американских брендов в наличии : Carter's, Gymboree, Ralph Lauren, Children's Place.\\n🙏 Работаем более 7 лет, отправка в день заказа\\n🔥 Посмотреть все комплекты по акции: https://vk.com/market-20673835?section=album_54\",\n",
       "       \"✈ 1300 позиций американских брендов в наличии : Carter's, Gymboree, Ralph Lauren, Children's Place.\\n🙏 Работаем более 7 лет.\\n🎯 Отправка в день заказа.\"],\n",
       "      dtype=object)"
      ]
     },
     "execution_count": 13,
     "metadata": {},
     "output_type": "execute_result"
    }
   ],
   "source": [
    "get_posts_from_cluster(65)"
   ]
  },
  {
   "cell_type": "markdown",
   "metadata": {},
   "source": [
    "Здесь алгоритм показывает себя не очень плохо"
   ]
  },
  {
   "cell_type": "markdown",
   "metadata": {},
   "source": [
    "#### Посмотрим на 524 кластер (Пытался выбирать те, где не очень много постов)"
   ]
  },
  {
   "cell_type": "code",
   "execution_count": 14,
   "metadata": {},
   "outputs": [
    {
     "data": {
      "text/plain": [
       "9"
      ]
     },
     "execution_count": 14,
     "metadata": {},
     "output_type": "execute_result"
    }
   ],
   "source": [
    "sizes[524]"
   ]
  },
  {
   "cell_type": "code",
   "execution_count": 15,
   "metadata": {},
   "outputs": [
    {
     "data": {
      "text/plain": [
       "array(['Комментатор спит, матч идет. Дудь уснул, так это скучно. Разбуди себя, если хочешь больше крутых голов. Пора использовать 50% скидку на стрижку в барбершопе Chop-Chop от Head & Shoulders. \\n#БольшеКрутыхГолов #ПокажиСебя \\nЖми => https://vk.cc/89Nh1U',\n",
       "       'Комментатор спит, матч идет. Дудь уснул, так это скучно. Разбуди себя, если хочешь больше крутых голов. Пора использовать 50% скидку на стрижку в барбершопе Chop-Chop от Head & Shoulders. \\n#БольшеКрутыхГолов #ПокажиСебя \\nЖми => https://vk.cc/89MRPA',\n",
       "       'Комментатор спит, матч идет. Дудь уснул, так это скучно. Разбуди себя, если хочешь больше крутых голов. Пора использовать 50% скидку на стрижку в барбершопе Chop-Chop от Head & Shoulders. \\n#БольшеКрутыхГолов #ПокажиСебя \\nЖми => https://vk.cc/89Nh1U',\n",
       "       'Комментатор спит, матч идет. Дудь уснул, так это скучно. Разбуди себя, если хочешь больше крутых голов. Пора использовать 50% скидку на стрижку в барбершопе Chop-Chop от Head & Shoulders. \\n#БольшеКрутыхГолов #ПокажиСебя \\nЖми => https://vk.cc/89m133',\n",
       "       'Комментатор спит, матч идет. Дудь уснул, так это скучно. Разбуди себя, если хочешь больше крутых голов. Пора использовать 50% скидку на стрижку в барбершопе Chop-Chop от Head & Shoulders. \\n#БольшеКрутыхГолов #ПокажиСебя \\nЖми => https://vk.cc/89FcxZ',\n",
       "       'Комментатор спит, матч идет. Дудь уснул, так это скучно. Разбуди себя, если хочешь больше крутых голов. Пора использовать 50% скидку на стрижку в барбершопе Chop-Chop от Head & Shoulders. \\n#БольшеКрутыхГолов #ПокажиСебя \\nЖми => https://vk.cc/88JAqj',\n",
       "       'Комментатор спит, матч идет. Дудь уснул, так это скучно. Разбуди себя, если хочешь больше крутых голов. Пора использовать 50% скидку на стрижку в барбершопе Chop-Chop от Head & Shoulders. \\n#БольшеКрутыхГолов #ПокажиСебя \\nЖми => https://vk.cc/89NoEn',\n",
       "       'Комментатор спит, матч идет. Дудь уснул, так это скучно. Разбуди себя, если хочешь больше крутых голов. Пора использовать 50% скидку на стрижку в барбершопе Chop-Chop от Head & Shoulders. \\n#БольшеКрутыхГолов #ПокажиСебя \\nЖми => https://vk.cc/89EK6W',\n",
       "       'Комментатор спит, матч идет. Дудь уснул, так это скучно. Разбуди себя, если хочешь больше крутых голов. Пора использовать 50% скидку на стрижку в барбершопе Chop-Chop от Head & Shoulders. \\n#БольшеКрутыхГолов #ПокажиСебя \\nЖми => https://vk.cc/88Krqd'],\n",
       "      dtype=object)"
      ]
     },
     "execution_count": 15,
     "metadata": {},
     "output_type": "execute_result"
    }
   ],
   "source": [
    "get_posts_from_cluster(524)"
   ]
  },
  {
   "cell_type": "markdown",
   "metadata": {},
   "source": [
    "Просто один и тот же текст был в нескольких разных постах"
   ]
  },
  {
   "cell_type": "markdown",
   "metadata": {
    "toc-hr-collapsed": true
   },
   "source": [
    "#### Посмотрим немного остальные кластеры"
   ]
  },
  {
   "cell_type": "markdown",
   "metadata": {},
   "source": [
    "Самый большой кластер"
   ]
  },
  {
   "cell_type": "code",
   "execution_count": 16,
   "metadata": {},
   "outputs": [
    {
     "data": {
      "text/plain": [
       "62450"
      ]
     },
     "execution_count": 16,
     "metadata": {},
     "output_type": "execute_result"
    }
   ],
   "source": [
    "sizes[sizes.idxmax()]"
   ]
  },
  {
   "cell_type": "markdown",
   "metadata": {},
   "source": [
    "Посмтрим первые 5 постов и последние 5 постов из этой группы"
   ]
  },
  {
   "cell_type": "code",
   "execution_count": 17,
   "metadata": {},
   "outputs": [],
   "source": [
    "posts = get_posts_from_cluster(sizes.idxmax())"
   ]
  },
  {
   "cell_type": "code",
   "execution_count": 18,
   "metadata": {},
   "outputs": [
    {
     "data": {
      "text/plain": [
       "array(['Только для жителей Автовокзала, которые любят путешествовать!\\n \\n🎁Успей получить путешествие за лайк! ЖМИ⬇',\n",
       "       'Декоратор/дизайнер событий? Рост и развитие нельзя откладывать в долгий ящик. \\n🔥Идет набор на марафон \"Путь декоратора\", где учат работать по другому.\\nСпеши записаться по супер цене. 📢 15 июня цена поднимется вдвое!',\n",
       "       'До Games Job Fair St. Petersburg осталось всего две недели, самое время рассказать вам о месте проведения нашей ярмарки! \\n30 июня мы соберемся в [club8938143|ТЕХНОПАРКЕ САНКТ-ПЕТЕРБУРГА]. Здесь высокотехнологичные проекты получают поддержку, необходимую для дальнейшего роста. Бизнес-инкубатор был создан в 2008 году и за это время они помогли более чем 200 стартапам сделать первые шаги на рынке, сформировать профессиональную команду, получить инвестиции и найти клиентов. Узнать больше о деятельности Ингрии можно на сайте: http://ingria-park.ru. \\nИ не забывайте, что регистрация на мероприятие все еще открыта: fgday.com.',\n",
       "       'Если для собственников это не секрет, то для покупателей это весьма важная информация!!! Лифты которые были включены в подъездах убиваются в хлам и просто перестают работать, а если работают то через раз… Но если это считать как мелкими трудностями новостройки, то события 5.06.18 ~19:30± уже за рамками морали и закона. В минувшие выходные неравнодушные жильцы за свой счёт купили материал для обшивки лифтов. Привезли, смонтировали обшивку лифтов вложив это свою душу🙃и вот лифты засияли новым красками радуя глаз, но счастье было не долгим. Вчера защитные конструкции были зверски выдраны и выкинуты в тамбурные помещения подъездов действующей ук \"Алгоритм\"… Нет слов, одни эмоции… Сколько было обращений к ук защитить лифты, но даже пальцем об палец не ударили. Одно бездействие и хамское отношение, как ИТОГ: -Украденные краны и шланги противопожарной защиты, - Ванадальски раскуроченные лифты, -Вырванные с корнем светильники и датчики движения, - Раскуроченные таблички с выходом, - Вырванные батареи, - И \"чудный\" подавал… Чего добивается их директор плюя на правила пдд оставляя машину на пешеходной дорожке тоже не известно… Единственное что не изменить это хороших соседей которым не безразлична судьба нашего дома😊',\n",
       "       'Выпускной уже вот вот? Не знаешь где сделать укладку и макияж, чтобы все обзавидовались?\\n \\nСпециально для Вас, дорогие выпускницы, наша [club165938958|Manki Manik | Студия красоты] приготовила специальные условия на макияж и укладку к выпускному! 😍 Только топовые мастера и премиум материалы. Переходи по ссылке, чтобы узнать о спец. условиях vk.cc/81uZ3Q\\n\\nПриходите к нам, зовите своих мам и получайте дополнительную скидку. \\n\\nМы находимся в вашем районе с 7-ми минутах от м. Щёлковская/Первомайская\\n \\nЗаписывайся к нам: \\n👑 Запись онлайн: vk.cc/81lC6z \\n☎Телефон: +7 (995) 700-47-77 \\n📍 метро Щёлковская, 9-я Парковая 43/26'],\n",
       "      dtype=object)"
      ]
     },
     "execution_count": 18,
     "metadata": {},
     "output_type": "execute_result"
    }
   ],
   "source": [
    "posts[:5]"
   ]
  },
  {
   "cell_type": "code",
   "execution_count": 19,
   "metadata": {},
   "outputs": [
    {
     "data": {
      "text/plain": [
       "array(['Частные обзорные экскурсии и экскурсии с гидом по Минску и другим местам!\\nhttps://www.chauffeur.by/excursions-within-belarus',\n",
       "       'Привет фанатам Баффета! Меня зовут Вячеслав Базылов. Уже более 15 лет я занимаюсь инвестициям, управлял фондами до 40 миллионов долларов. В 2009 году достиг звания лучшего портфельного управляющего Украины по версии UAIB, Ukrainian Exchange. \\n \\nВ 2011 году победил в конкурсе «Лучший Частный Инвестор» в номинации: «Самый прибыльный трейдер» (Dragon Capital, Ukrainian Exchange). Затем начал заниматься криптовалютами. \\n \\nСо временем, мне захотелось поделиться своими навыками и опытом со всеми, и я начал вести свои личные обучающие семинары и курсы. Приглашаю посетить и вас, на один из них, в ходе которого вы поймете ситуацию на рынке целиком. \\n \\nУзнайте более подробную программу и зарегистрируйтесь на сайте: https://clck.ru/Dc2Av',\n",
       "       '🏡 Подбираете новостройку в центре Москвы?\\nСкачайте бесплатный каталог элитных новостроек центра Москвы ⏬',\n",
       "       'Всем нашим подписчикам, администрация желает приятных сновидений😊🌛',\n",
       "       'Увидев этих тройняшек, родители отказались их забирать. \\nВот как сложилась судьба детей через 14 лет\\n\\nДля медиков случай сестричек Мейси, Маккензи и Мадлен остается уникальным даже сейчас, спустя 14 лет после их рождения. \\n\\nВрачи, которые принимали девочек, впервые видели таких тройняшек. Мадлен появилась на свет полностью здоровой, а вот Мейси и Маккензи были сиамскими близнецами. \\n \\nМалышки срослись в районе таза, но непосредственной угрозы для их здоровья это не несло. Родители без колебаний оставили девочек в роддоме, судьба необычной троицы повисла на волоске. К счастью, на помощь к малышкам пришли чудесные люди! \\n \\n52-летний Джефф и 42-летняя Дарла Гаррисон давно мечтали о дочери. Судьба, однако, сыграла с ними шутку: в семье супругов росло трое сыновей. \\n \\nУвидев Мейси, Маккензи и Мадлен, муж с женой поняли, что обязательно удочерят девочек. Даже известие о том, что родители крох были наркоманами, не повлияло на решение четы Гаррисон. \\n \\nПроконсультировавшись с врачами, Джефф и Дарла решили: Мейси и Маккензи надо разделить. Операцию провели в сентябре 2003 года, когда девочкам было по девять месяцев. \\n \\nМногоэтапная операция была крайне сложной, над крохами 24 часа подряд трудились специалисты. К счастью, всё закончилось благополучно! \\n \\nМейси и Маккензи остались одноногими. Более того, обе сестры теперь были вынуждены жить со стомными мешками. Медики, однако, были абсолютно уверены: без хирургического вмешательства всё было бы куда хуже. \\n \\nРодители забрали девочек с собой на ферму, где жила вся семья. Сегодня психологи утверждают: Джефф с Дарлой приняли абсолютно правильное решение. \\n \\nПриемные отец и мать не стали опекать их всю жизнь, как часто бывает в семьях, где растут инвалиды, но воспринимали их как нормальных детей. В результате девочки выросли самостоятельными, энергичными и довольными жизнью. \\n \\nК десяти годам выяснилось: близняшки, которых, казалось, привязала друг к другу сама судьба, растут абсолютно разными по характеру и темпераменту. Мейси оказалась тихой домашней девочкой, предпочитавшей сидеть дома и рисовать. Маккензи, наоборот, обожала гулять, играть на улице и носиться взапуски с братьями и друзьями, причем протез совершенно ей в этом не мешал! \\n \\nМалышки освоили все дела, которыми обычно загружают своих детей родители-фермеры. Они не уступают мальчишкам и здоровой сестре ни в чем, а троица сводных братьев привыкла защищать и всячески оберегать девочек. \\n \\nВремя от времени сестры Гаррисон появляются на телеэкранах. Когда их с родителями приглашают на очередное ток-шоу, зрители вкупе с экспертами единогласно восторгаются веселыми и энергичными малышками. Джеффа с Дарлой решительно не в чем упрекнуть! \\n \\nСейчас уникальным близнецам по 14 лет, и девочки не сомневаются: впереди их ждет чудесное будущее. Если хочешь побольше узнать об истории сестер Гаррисон, к твоим услугам размещенный ниже видеоролик. \\n \\nСтрашно даже представить, какая судьба ожидала бы малышек, не заметь их супруги Гаррисон. Лишь благодаря Джеффу и Дарле девочки стали не просто медицинским феноменом, но и счастливыми, довольными жизнью детьми!'],\n",
       "      dtype=object)"
      ]
     },
     "execution_count": 19,
     "metadata": {},
     "output_type": "execute_result"
    }
   ],
   "source": [
    "posts[-5:]"
   ]
  },
  {
   "cell_type": "markdown",
   "metadata": {},
   "source": [
    "Можно сделать только один вывод - количество кластеров было не достаточным, чтобы предсказывать правильно"
   ]
  },
  {
   "cell_type": "markdown",
   "metadata": {},
   "source": [
    "Можно посмотреть ещё на 722 группу, она тоже довольно большая"
   ]
  },
  {
   "cell_type": "code",
   "execution_count": 20,
   "metadata": {},
   "outputs": [
    {
     "data": {
      "text/plain": [
       "287"
      ]
     },
     "execution_count": 20,
     "metadata": {},
     "output_type": "execute_result"
    }
   ],
   "source": [
    "sizes[722]"
   ]
  },
  {
   "cell_type": "code",
   "execution_count": 21,
   "metadata": {},
   "outputs": [],
   "source": [
    "posts = get_posts_from_cluster(722)"
   ]
  },
  {
   "cell_type": "code",
   "execution_count": 22,
   "metadata": {},
   "outputs": [
    {
     "data": {
      "text/plain": [
       "array(['Установили очень глубокий шкаф купе!!!!😏😏😏\\n-корпус ЛДСП белый кантри\\n-наполнение фасадов зеркало\\n-профиль версаль серебро',\n",
       "       '📣 Специальная цена для наших подписчиков на этой неделе! \\n✨ Шкаф-купе \"Альянс-3\" 2000 - всего 12990₽👍 \\n✅ Только с 18 по 24 июня! \\n➡ Посмотреть на сайте: https://clck.ru/DcWft',\n",
       "       'Дизайнер интерьера из Екатеринбурга? Проектируй мебельные детали онлайн! \\nВ ROOMATIC ты можешь заказать и оплатить: 📌распил ЛДСП, 📌фасады и панели МДФ, 📌двери для шкафов-купе и многое другое! \\nПопробуй!',\n",
       "       '🔥 Горячие дни модного шопинга 🔥 \\nНаполняй свой шкаф красотой — получай кэшбэк 15% + выигрывай классные призы! Регистрируйся и не пропусти акцию💡',\n",
       "       'Как приготовить спагетти с соусом из фарша и кабачковой икры? Смотрите пошаговый рецепт.'],\n",
       "      dtype=object)"
      ]
     },
     "execution_count": 22,
     "metadata": {},
     "output_type": "execute_result"
    }
   ],
   "source": [
    "posts[:5]"
   ]
  },
  {
   "cell_type": "code",
   "execution_count": 23,
   "metadata": {},
   "outputs": [
    {
     "data": {
      "text/plain": [
       "array(['\"Нужен шкаф-купе для троих сыновей!\" 👦 — обратилась к нам Надежда. \\n\\nУ каждого должна быть своя секция. А ещё шкаф должен быть особенно прочным, потому что его будущие обладатели — настоящие разбойники😏\\n\\nПоэтому мы сделали двери шкафа из целикового лдсп. Кто знает, вдруг случится захват корабля? Ой, то есть шкафа-купе... Ну да не важно🙂 Наш герой готов к любым приключениям!\\n\\nНадежда осталась довольна, а шкаф приступил к выполнению службы!👍 \\n\\nP.S. А у ваших непосед уже есть шкаф-купе?\\n\\nВаши лайки ❤ будут нам очень приятны!',\n",
       "       'Небольшая гардеробная для прихожей в коттедж в г. Брянске. \\n \\nОбратившись к нам в студию мебели «Проект» Наталья высказала свои пожелания по поводу оформления дверей-купе. После замера и осмотра помещения мы предложили ей скомбинировать черное крашеное стекло Locabel и зеркало – ведь как видно на фото именно такое сочетание элементов очень стильно и органично вписалось в интерьер прихожей. \\n \\n⚠ Но, главное, при таком оформлении шкафа, по пожеланию нашей заказчицы, нам необходимо было не допустить наличия соединительных планок между стеклом и зеркалом. \\nМы всегда идем навстречу нашим клиентам. И сделали комбинированные двери-купе без соединительных планок, так же по периметру стекол и зеркал был сформирован фацет 10 мм. \\n \\nВсе технические тонкости выполнены. Шкаф готов. Клиенты довольны. 👍\\n \\nСтудия мебели «Проект» и я, Александр Гордеев, всегда советуем нашим заказчикам наиболее подходящие варианты оформления наполнения шкафов-купе, помогаем выбрать из огромного разнообразия материалов и цветов нужное и конечно, воплощаем в жизнь их мечты о красивой и качественно мебели. \\n \\nРазмеры гардеробной: ширина Х высота Х глубина (2110 Х 2500 Х 1010) мм. \\n\\nРезультат на фото. Ставьте свои 💙💙💙 , если понравилось!',\n",
       "       '🔥 Горячие дни модного шопинга 🔥\\nНаполняй свой шкаф красотой — получай кэшбэк 15% + выигрывай классные призы! Регистрируйся и не пропусти акцию 💡',\n",
       "       'Для тех, кто бережет фигуру: легкая версия салата - со обжаренным куриным мясом, адыгейским сыром и рукколой. С соусом Ранч. Да, соус отдельно - не забудьте заправить! 🔥',\n",
       "       '😒 Полный шкаф одежды, а надеть опять нечего? \\n\\n😎 У нас ты сможешь обновить гардероб без риска для семейного бюджета!'],\n",
       "      dtype=object)"
      ]
     },
     "execution_count": 23,
     "metadata": {},
     "output_type": "execute_result"
    }
   ],
   "source": [
    "posts[-5:]"
   ]
  },
  {
   "cell_type": "markdown",
   "metadata": {},
   "source": [
    "Можно сделать вывод - пока кластеризация не идеальная. Одной из причин может быть то, что много внимания уделается слову \"шкаф\""
   ]
  },
  {
   "cell_type": "markdown",
   "metadata": {},
   "source": [
    "### LDA <a class=\"anchor\" id=\"sixth\"></a>"
   ]
  },
  {
   "cell_type": "code",
   "execution_count": 4,
   "metadata": {},
   "outputs": [
    {
     "name": "stdout",
     "output_type": "stream",
     "text": [
      "root\n",
      " |-- filtered: array (nullable = true)\n",
      " |    |-- element: string (containsNull = true)\n",
      " |-- index: long (nullable = true)\n",
      "\n"
     ]
    }
   ],
   "source": [
    "stop_words_removed = spark.read.load(\"words_filtered_with_id\")\n",
    "stop_words_removed.printSchema()"
   ]
  },
  {
   "cell_type": "markdown",
   "metadata": {},
   "source": [
    "Выбрал такие minDF, maxDF, делая вывод [отсюда(1 пункт ответа)](https://www.quora.com/What-are-good-ways-of-evaluating-the-topics-generated-by-running-LDA-on-a-corpus)\n",
    "\n",
    "Немного подредактировал, но не могу претендовать на то, что они идеальные.\n",
    "\n",
    "У нас есть не очень большие посты, поэтому сделать minDF=3 мне показалось разумным, с maxDF понятно - в текстах могут присутствовать некоторые часто встречающиеся слова, которые будут только мешать кластеризации. Они будут как \"стоп слова\"."
   ]
  },
  {
   "cell_type": "code",
   "execution_count": 5,
   "metadata": {},
   "outputs": [],
   "source": [
    "from pyspark.ml.feature import CountVectorizer\n",
    "\n",
    "VOCABULARY_SIZE = 2 ** 14\n",
    "\n",
    "count_vectorizer = CountVectorizer(vocabSize=VOCABULARY_SIZE, minDF=3, maxDF=0.6, \n",
    "                                  inputCol=\"filtered\", outputCol=\"frequencies\")\n",
    "model = count_vectorizer.fit(stop_words_removed)\n",
    "model.save('count_vectorizer.model')\n",
    "\n",
    "preparedDF = model.transform(stop_words_removed)\n",
    "preparedDF.select(['index', 'frequencies']).write.save('count_vectorized')"
   ]
  },
  {
   "cell_type": "code",
   "execution_count": 7,
   "metadata": {},
   "outputs": [],
   "source": [
    "preparedDF = spark.read.load('count_vectorized')\n",
    "cluster_sizes = [100, 250, 500]"
   ]
  },
  {
   "cell_type": "code",
   "execution_count": 8,
   "metadata": {},
   "outputs": [],
   "source": [
    "from pyspark.ml.clustering import LDA\n",
    "for k in cluster_sizes:\n",
    "    lda = LDA(featuresCol='frequencies', k=k)\n",
    "    transformer = lda.fit(preparedDF)\n",
    "    transformer.save('lda_%d.model' % k)\n",
    "    \n",
    "    transformed = transformer.transform(preparedDF)\n",
    "    transformed.write.save('lda_%d.prediction' % k)"
   ]
  },
  {
   "cell_type": "markdown",
   "metadata": {},
   "source": [
    "Perplexity не получилось посчитать, оно было слишком долгим (работало ночь и не закончило) и я решил убить эти процессы"
   ]
  },
  {
   "cell_type": "code",
   "execution_count": null,
   "metadata": {},
   "outputs": [],
   "source": [
    "# with open('logPerplexity.pkl', 'rb') as fout:\n",
    "#     perplexities = pickle.load(fout)\n",
    "\n",
    "# perplexities = {}\n",
    "# for k in cluster_sizes:\n",
    "#     transformer = LocalLDAModel.read().load('lda_%d.model' % k)\n",
    "#     perplexities[k] = transformer.logPerplexity(preparedDF)\n",
    "\n",
    "# with open('logPerplexity.pkl', 'wb') as fout:\n",
    "#     pickle.dump(perplexities, fout)"
   ]
  },
  {
   "cell_type": "markdown",
   "metadata": {
    "toc-hr-collapsed": true
   },
   "source": [
    "### Посмотрим результаты LDA c 500 тегами <a class=\"anchor\" id=\"seventh\"></a>"
   ]
  },
  {
   "cell_type": "markdown",
   "metadata": {},
   "source": [
    "Посмотрим на какие 10 наиболее значительных слов обращали внимания первые 5 топиков"
   ]
  },
  {
   "cell_type": "code",
   "execution_count": null,
   "metadata": {},
   "outputs": [],
   "source": [
    "from pyspark.ml.clustering import LocalLDAModel\n",
    "lda500 = LocalLDAModel.read().load('lda_500.model')\n",
    "topics = lda500.describeTopics(10)"
   ]
  },
  {
   "cell_type": "code",
   "execution_count": 14,
   "metadata": {},
   "outputs": [
    {
     "data": {
      "text/html": [
       "<div>\n",
       "<style scoped>\n",
       "    .dataframe tbody tr th:only-of-type {\n",
       "        vertical-align: middle;\n",
       "    }\n",
       "\n",
       "    .dataframe tbody tr th {\n",
       "        vertical-align: top;\n",
       "    }\n",
       "\n",
       "    .dataframe thead th {\n",
       "        text-align: right;\n",
       "    }\n",
       "</style>\n",
       "<table border=\"1\" class=\"dataframe\">\n",
       "  <thead>\n",
       "    <tr style=\"text-align: right;\">\n",
       "      <th></th>\n",
       "      <th>topic</th>\n",
       "      <th>termIndices</th>\n",
       "      <th>termWeights</th>\n",
       "    </tr>\n",
       "  </thead>\n",
       "  <tbody>\n",
       "    <tr>\n",
       "      <th>0</th>\n",
       "      <td>0</td>\n",
       "      <td>[1782, 9654, 3546, 6804, 7681, 2821, 7614, 865...</td>\n",
       "      <td>[8.656864731874494e-05, 8.56053000175406e-05, ...</td>\n",
       "    </tr>\n",
       "    <tr>\n",
       "      <th>1</th>\n",
       "      <td>1</td>\n",
       "      <td>[1664, 13884, 812, 7675, 6769, 2069, 15881, 88...</td>\n",
       "      <td>[9.017187807147295e-05, 8.6422938360876e-05, 8...</td>\n",
       "    </tr>\n",
       "    <tr>\n",
       "      <th>2</th>\n",
       "      <td>2</td>\n",
       "      <td>[14644, 10085, 2653, 11254, 1518, 7680, 12634,...</td>\n",
       "      <td>[8.654726877878155e-05, 8.593843244862693e-05,...</td>\n",
       "    </tr>\n",
       "    <tr>\n",
       "      <th>3</th>\n",
       "      <td>3</td>\n",
       "      <td>[5080, 5434, 4428, 8984, 14785, 3911, 1452, 11...</td>\n",
       "      <td>[8.640544333145997e-05, 8.635177402531849e-05,...</td>\n",
       "    </tr>\n",
       "    <tr>\n",
       "      <th>4</th>\n",
       "      <td>4</td>\n",
       "      <td>[232, 521, 0, 3471, 247, 2893, 4154, 1037, 183...</td>\n",
       "      <td>[0.023269244671920257, 0.009289528050790526, 0...</td>\n",
       "    </tr>\n",
       "  </tbody>\n",
       "</table>\n",
       "</div>"
      ],
      "text/plain": [
       "   topic                                        termIndices  \\\n",
       "0      0  [1782, 9654, 3546, 6804, 7681, 2821, 7614, 865...   \n",
       "1      1  [1664, 13884, 812, 7675, 6769, 2069, 15881, 88...   \n",
       "2      2  [14644, 10085, 2653, 11254, 1518, 7680, 12634,...   \n",
       "3      3  [5080, 5434, 4428, 8984, 14785, 3911, 1452, 11...   \n",
       "4      4  [232, 521, 0, 3471, 247, 2893, 4154, 1037, 183...   \n",
       "\n",
       "                                         termWeights  \n",
       "0  [8.656864731874494e-05, 8.56053000175406e-05, ...  \n",
       "1  [9.017187807147295e-05, 8.6422938360876e-05, 8...  \n",
       "2  [8.654726877878155e-05, 8.593843244862693e-05,...  \n",
       "3  [8.640544333145997e-05, 8.635177402531849e-05,...  \n",
       "4  [0.023269244671920257, 0.009289528050790526, 0...  "
      ]
     },
     "execution_count": 14,
     "metadata": {},
     "output_type": "execute_result"
    }
   ],
   "source": [
    "pandas_df = topics.limit(5).toPandas()\n",
    "pandas_df.head()"
   ]
  },
  {
   "cell_type": "code",
   "execution_count": 9,
   "metadata": {},
   "outputs": [],
   "source": [
    "from pyspark.ml.feature import CountVectorizerModel\n",
    "count_vectorizer = CountVectorizerModel.load('count_vectorizer.model')"
   ]
  },
  {
   "cell_type": "code",
   "execution_count": 18,
   "metadata": {},
   "outputs": [
    {
     "data": {
      "text/plain": [
       "0    [радоваться, самодиагностика, отключать, печально, нитка, забор, фатых, доезжать, поделиться, аркаим]\n",
       "1    [спасать, reserve, закрытый, дергать, поединок, шт, холодок, мировоззрение, смелый, фотка]           \n",
       "2    [стамбул, полярный, ненужный, ажиотаж, срочно, ильнур, dodo, пищевой, тревожиться, маркировка]       \n",
       "3    [дисплей, сосновый, прыгать, boom, щука, явно, помещение, uchus, переедание, обеспечение]            \n",
       "4    [энергия, повышать, это, гормон, здоровье, самочувствие, энергичность, лень, уровень, усталость]     \n",
       "Name: termIndices, dtype: object"
      ]
     },
     "execution_count": 18,
     "metadata": {},
     "output_type": "execute_result"
    }
   ],
   "source": [
    "pd.set_option('display.max_colwidth', -1)\n",
    "pandas_df['termIndices'].apply(lambda el: [count_vectorizer.vocabulary[index] for index in el])"
   ]
  },
  {
   "cell_type": "markdown",
   "metadata": {},
   "source": [
    "Если присмотреться, то можно заметить, что только в 4-ом топике получилось что-то вразумительное, что-то связанное со здоровьем"
   ]
  },
  {
   "cell_type": "code",
   "execution_count": 5,
   "metadata": {},
   "outputs": [
    {
     "name": "stdout",
     "output_type": "stream",
     "text": [
      "root\n",
      " |-- index: long (nullable = true)\n",
      " |-- frequencies: vector (nullable = true)\n",
      " |-- topicDistribution: vector (nullable = true)\n",
      "\n"
     ]
    }
   ],
   "source": [
    "predictions = spark.read.load('lda_500.prediction')\n",
    "predictions.printSchema()"
   ]
  },
  {
   "cell_type": "code",
   "execution_count": 7,
   "metadata": {},
   "outputs": [],
   "source": [
    "distribution_df = predictions.select(['index', 'topicDistribution']).toPandas()"
   ]
  },
  {
   "cell_type": "code",
   "execution_count": 35,
   "metadata": {},
   "outputs": [
    {
     "data": {
      "text/html": [
       "<div>\n",
       "<style scoped>\n",
       "    .dataframe tbody tr th:only-of-type {\n",
       "        vertical-align: middle;\n",
       "    }\n",
       "\n",
       "    .dataframe tbody tr th {\n",
       "        vertical-align: top;\n",
       "    }\n",
       "\n",
       "    .dataframe thead th {\n",
       "        text-align: right;\n",
       "    }\n",
       "</style>\n",
       "<table border=\"1\" class=\"dataframe\">\n",
       "  <thead>\n",
       "    <tr style=\"text-align: right;\">\n",
       "      <th></th>\n",
       "      <th>topicDistribution</th>\n",
       "    </tr>\n",
       "    <tr>\n",
       "      <th>index</th>\n",
       "      <th></th>\n",
       "    </tr>\n",
       "  </thead>\n",
       "  <tbody>\n",
       "    <tr>\n",
       "      <th>118784</th>\n",
       "      <td>[0.0003982792925933001, 0.0003982792925933001,...</td>\n",
       "    </tr>\n",
       "    <tr>\n",
       "      <th>118785</th>\n",
       "      <td>[2.457695358310222e-05, 2.457695358310222e-05,...</td>\n",
       "    </tr>\n",
       "    <tr>\n",
       "      <th>118786</th>\n",
       "      <td>[0.00014221014342903797, 0.0001422101434290379...</td>\n",
       "    </tr>\n",
       "    <tr>\n",
       "      <th>118787</th>\n",
       "      <td>[0.00018100098649866337, 0.0001810009864986633...</td>\n",
       "    </tr>\n",
       "    <tr>\n",
       "      <th>118788</th>\n",
       "      <td>[4.0627790330978677e-05, 4.0627790330978677e-0...</td>\n",
       "    </tr>\n",
       "  </tbody>\n",
       "</table>\n",
       "</div>"
      ],
      "text/plain": [
       "                                        topicDistribution\n",
       "index                                                    \n",
       "118784  [0.0003982792925933001, 0.0003982792925933001,...\n",
       "118785  [2.457695358310222e-05, 2.457695358310222e-05,...\n",
       "118786  [0.00014221014342903797, 0.0001422101434290379...\n",
       "118787  [0.00018100098649866337, 0.0001810009864986633...\n",
       "118788  [4.0627790330978677e-05, 4.0627790330978677e-0..."
      ]
     },
     "execution_count": 35,
     "metadata": {},
     "output_type": "execute_result"
    }
   ],
   "source": [
    "distribution_df.set_index(distribution_df['index'], inplace=True)\n",
    "distribution_df.drop(columns='index', inplace=True)\n",
    "distribution_df.head()"
   ]
  },
  {
   "cell_type": "markdown",
   "metadata": {},
   "source": [
    "Будем искать похожие документы по [Jensen-Shannon Distance](https://en.wikipedia.org/wiki/Jensen%E2%80%93Shannon_divergence)\n",
    "\n",
    "[Источник:](https://gist.github.com/zhiyzuo/f80e2b1cfb493a5711330d271a228a3d)"
   ]
  },
  {
   "cell_type": "code",
   "execution_count": 36,
   "metadata": {},
   "outputs": [],
   "source": [
    "import scipy.stats\n",
    "\n",
    "def jsd(p, q, base=np.e):\n",
    "    '''\n",
    "        Implementation of pairwise `jsd` based on  \n",
    "        https://en.wikipedia.org/wiki/Jensen%E2%80%93Shannon_divergence\n",
    "    '''\n",
    "    ## convert to np.array\n",
    "    p, q = np.asarray(p), np.asarray(q)\n",
    "    ## normalize p, q to probabilities\n",
    "    p, q = p/p.sum(), q/q.sum()\n",
    "    m = 1./2*(p + q)\n",
    "    return scipy.stats.entropy(p,m, base=base)/2. + scipy.stats.entropy(q, m, base=base)/2.\n",
    "\n",
    "from operator import itemgetter\n",
    "import numpy as np\n",
    "\n",
    "def get_similar_documents(document_idx, top_n=5):\n",
    "    current_document = distribution_df.loc[document_idx]\n",
    "    similarities = []\n",
    "    \n",
    "    for idx, row in distribution_df.drop(index=document_idx).iterrows():\n",
    "        similarities.append([idx, jsd(current_document['topicDistribution'], row['topicDistribution'])])\n",
    "    similarities.sort(key=itemgetter(1))\n",
    "    \n",
    "    similar_documents = []\n",
    "    for idx, _ in similarities[:top_n]:\n",
    "        similar_documents.append(content.loc[idx, 'content'])\n",
    "    return similar_documents"
   ]
  },
  {
   "cell_type": "markdown",
   "metadata": {},
   "source": [
    "#### Найдем похожие для документа с индексом 4"
   ]
  },
  {
   "cell_type": "code",
   "execution_count": 39,
   "metadata": {},
   "outputs": [
    {
     "data": {
      "text/plain": [
       "'Продажа оригинальной и удобной спортивной одежды от российских производителей по соотношению цена качество.👍👍👍'"
      ]
     },
     "execution_count": 39,
     "metadata": {},
     "output_type": "execute_result"
    }
   ],
   "source": [
    "content.loc[4, 'content']"
   ]
  },
  {
   "cell_type": "code",
   "execution_count": 40,
   "metadata": {},
   "outputs": [
    {
     "name": "stderr",
     "output_type": "stream",
     "text": [
      "/home/elch10/.local/lib/python3.6/site-packages/ipykernel_launcher.py:11: RuntimeWarning: invalid value encountered in true_divide\n",
      "  # This is added back by InteractiveShellApp.init_path()\n"
     ]
    },
    {
     "data": {
      "text/plain": [
       "['Более 6000 единиц стильной женской одежды с ценами от производителя и бесплатной доставкой по всей Украине!',\n",
       " 'Работай в ресторане рядом с домом. Зарплата 31 000 руб. + до 13 500 руб. премия! Заполни анкету онлайн',\n",
       " 'Работай в ресторане рядом с домом. Зарплата 31 000 руб. + до 13 500 руб. премия! Заполни анкету онлайн',\n",
       " 'Работай в ресторане рядом с домом. Зарплата 31 000 руб. + до 13 500 руб. премия! Заполни анкету онлайн',\n",
       " 'Подарите своей кухне стеклянный фартук от ведущего производителя на Урале. Всего от 4200 руб. м.кв.']"
      ]
     },
     "execution_count": 40,
     "metadata": {},
     "output_type": "execute_result"
    }
   ],
   "source": [
    "get_similar_documents(4)"
   ]
  },
  {
   "cell_type": "markdown",
   "metadata": {},
   "source": [
    "#### Ну и похожие на последний элемент"
   ]
  },
  {
   "cell_type": "code",
   "execution_count": 47,
   "metadata": {},
   "outputs": [
    {
     "data": {
      "text/plain": [
       "'НОВОКУЗНЕЦК! ☄УЖЕ 6 июля состоится грандиозное выступление Дивы российского шоу-бизнеса - неподражаемой [club868146|Ани Лорак] \\n\\n☄Концерт в честь дня города #Новокузнецк400\\nВстречаемся на площади общественных мероприятий Центрального района! \\nНЕ ПРОПУСТИ!'"
      ]
     },
     "execution_count": 47,
     "metadata": {},
     "output_type": "execute_result"
    }
   ],
   "source": [
    "content.loc[237754, 'content']"
   ]
  },
  {
   "cell_type": "code",
   "execution_count": 48,
   "metadata": {},
   "outputs": [
    {
     "name": "stderr",
     "output_type": "stream",
     "text": [
      "/home/elch10/.local/lib/python3.6/site-packages/ipykernel_launcher.py:11: RuntimeWarning: invalid value encountered in true_divide\n",
      "  # This is added back by InteractiveShellApp.init_path()\n"
     ]
    },
    {
     "data": {
      "text/plain": [
       "['Июнь 1968 года. Радикальная феминистка Валери Соланас покупает пистолет и едет в офис к королю поп-арта Энди Уорхолу. \\n\\nОзвучка Иван Дорн',\n",
       " '🎥Киноклуб TODAY приглашает всех киноманов в АртКинотеатр \"RELAX CLUB\" на просмотр фильма \"Игры разума\" 30 октября в 19:40! \\nСтоимость пригласительного - 100 р.',\n",
       " \"Kaiser's Religion invites you to KaiserDom*\\n \\nМы открываем сезон вечеринок KaiserDom, и для первой нашей встречи была выбрана абсолютно новая локация, где Вы точно еще не были. Лайнап порадует Вас громкими именами и громкой хаус-музыкой.\\n\\nВсех гостей вечеринки ждёт сюрприз, а то давно мы ничего не показывали.\\n\\n18+ \\nFC / DC\\nFREE ENTER\\n \\n22:30\\n04/07/2018 \\nlocation: Chains Bar (Болотная наб. 3/2) \\n \\nрегистрация на мероприятие: \\n- репост этой записи \\n- ФИО в комментарии \\n\\nline-up:\\n\\n☭ Cream Soda\\n☭ Maxéncio Denisovi\\n☭ Mukha\\n☭ Mucity\\n☭ John505 + Teache\\n☭ Identichniy\\n\\n* KaiserDom - собор Кайзера\\n** приходите к началу, будет welcome drink 🖤\\n*** репост в день мероприятия нас не устроит\",\n",
       " 'В отпуск на байдарках по Ладоге!\\n\\nМы разработали байдарочный тур \"На шесть дней по Ладоге\" для любителей активного отдыха и туризма: здесь присутствует лёгкая спортивная составляющая в виде 10-15 км, которые необходимо проплывать за день, проживание в полевых условиях в палатках и приготовление пищи на костре. Разумеется, это путешествие проходит среди завораживающей красоты природы северо-западного Приладожья и Ладожских шхер!\\n\\nДаты проведения: 1.07 - 6.07.2018 года\\nСтоимость: 11000 рублей\\nОсталось 4 места в трансфере!\\n\\nВ цену включено:\\n- питание\\n- трансфер из Санкт-Петербурга и обратно на микроавтобусе\\n- аренда снаряжения (байдарки, вёсла, спасжилеты, гермомешки, палатки, костровое и бивачное оборудование)\\n- работа гида\\n\\nПодробности: http://ahtilahti.ru/puteshestvie-na-6-dnej\\nРегистрация: http://ahtilahti.ru/zapisatsja-na-6-dnej',\n",
       " 'В отпуск на байдарках по Ладоге!\\n\\nМы разработали байдарочный тур \"На шесть дней по Ладоге\" для любителей активного отдыха и туризма: здесь присутствует лёгкая спортивная составляющая в виде 10-15 км, которые необходимо проплывать за день, проживание в полевых условиях в палатках и приготовление пищи на костре. Разумеется, это путешествие проходит среди завораживающей красоты природы северо-западного Приладожья и Ладожских шхер!\\n\\nДаты проведения: 1.07 - 6.07.2018 года\\nСтоимость: 11000 рублей\\nОсталось 4 места в трансфере!\\n\\nВ цену включено:\\n- питание\\n- трансфер из Санкт-Петербурга и обратно на микроавтобусе\\n- аренда снаряжения (байдарки, вёсла, спасжилеты, гермомешки, палатки, костровое и бивачное оборудование)\\n- работа гида\\n\\nПодробности: http://ahtilahti.ru/puteshestvie-na-6-dnej\\nРегистрация: http://ahtilahti.ru/zapisatsja-na-6-dnej']"
      ]
     },
     "execution_count": 48,
     "metadata": {},
     "output_type": "execute_result"
    }
   ],
   "source": [
    "get_similar_documents(237754)"
   ]
  },
  {
   "cell_type": "markdown",
   "metadata": {},
   "source": [
    "Качество LDA мне показалось немного хуже, чем у KMeans, хотя чтобы делать такие выводы нужен более детально проверить каждый из этих методов"
   ]
  },
  {
   "cell_type": "markdown",
   "metadata": {
    "toc-hr-collapsed": false
   },
   "source": [
    "### Возможные улучшения <a class=\"anchor\" id=\"eighth\"></a>"
   ]
  },
  {
   "cell_type": "markdown",
   "metadata": {},
   "source": [
    "Можно было бы попробовать ещё:\n",
    "- ngram\n",
    "- gaussian mixture model\n",
    "- нейронные сети (например, BERT, pytext и т.д.)\n",
    "- попробовать свести задачу к supervised подходу (тематики взять из групп)"
   ]
  },
  {
   "cell_type": "markdown",
   "metadata": {},
   "source": [
    "Попробованные решения в принципе можно будет использовать в продакшене. Они выполняются не очень долго. Можно ещё ускорить, если уменьшить выборку и сделав tunning количества кластеров в kmeans или topics в LDA. Но оценивать качество unsupervised подходов довольно сложно, возможно, пришлось бы самому просматривать кластеры и оценивать качество \"глазами\".\n",
    "\n",
    "С другой стороны, если свести всё-таки к supervised подходу, то наверное, для оценки можно использовать метрики описанные [здесь](https://stats.stackexchange.com/a/234354) (по сути в группе может быть описано несколько тематик, по этому это multilabel classification). Так же, например, hamming score довольно не плохо интерпретируем."
   ]
  }
 ],
 "metadata": {
  "kernelspec": {
   "display_name": "Python 3",
   "language": "python",
   "name": "python3"
  },
  "language_info": {
   "codemirror_mode": {
    "name": "ipython",
    "version": 3
   },
   "file_extension": ".py",
   "mimetype": "text/x-python",
   "name": "python",
   "nbconvert_exporter": "python",
   "pygments_lexer": "ipython3",
   "version": "3.6.7"
  },
  "toc-autonumbering": false,
  "toc-showcode": false,
  "toc-showmarkdowntxt": false,
  "toc-showtags": false
 },
 "nbformat": 4,
 "nbformat_minor": 2
}
